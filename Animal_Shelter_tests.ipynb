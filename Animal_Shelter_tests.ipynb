{
 "cells": [
  {
   "cell_type": "code",
   "execution_count": null,
   "metadata": {
    "pycharm": {
     "name": "#%%\n"
    }
   },
   "outputs": [],
   "source": [
    "from Animal_Shelter import AnimalShelter\n",
    "from bson.json_util import dumps\n",
    "shelter = AnimalShelter(\"aacuser\", \"userPass\")\n",
    "\n",
    "#initialize test variables\n",
    "testData = {\n",
    "    \"animal_id\" : \"A112233\",\n",
    "    \"animal_type\" : \"Cat\",\n",
    "    \"breed\" : \"Siamese\"\n",
    "}\n",
    "blankTestData = None\n",
    "\n",
    "testSearchData = {\n",
    "   \"animal_id\" : \"A112233\"\n",
    "}\n",
    "testSearchData2 = {\n",
    "    \"breed\" : \"Siamese\"\n",
    "}\n",
    "blankTestSearchData = None"
   ]
  },
  {
   "cell_type": "code",
   "execution_count": null,
   "outputs": [],
   "source": [
    "# add one document to the collection\n",
    "# should return True\n",
    "shelter.create(testData)"
   ],
   "metadata": {
    "collapsed": false,
    "pycharm": {
     "name": "#%%\n"
    }
   }
  },
  {
   "cell_type": "code",
   "execution_count": null,
   "outputs": [],
   "source": [
    "# return the document we just added (in JSON format)\n",
    "shelter.read(testData, False)"
   ],
   "metadata": {
    "collapsed": false,
    "pycharm": {
     "name": "#%%\n"
    }
   }
  },
  {
   "cell_type": "code",
   "execution_count": null,
   "metadata": {
    "pycharm": {
     "name": "#%%\n"
    }
   },
   "outputs": [],
   "source": [
    "# return the document we just added (in JSON format)\n",
    "shelter.read(testData, False)"
   ]
  },
  {
   "cell_type": "code",
   "execution_count": null,
   "metadata": {
    "pycharm": {
     "name": "#%%\n",
     "is_executing": true
    }
   },
   "outputs": [],
   "source": [
    "# add blank data\n",
    "# should return Exception with error message\n",
    "shelter.create(blankTestData)"
   ]
  },
  {
   "cell_type": "code",
   "execution_count": null,
   "metadata": {
    "pycharm": {
     "name": "#%%\n"
    }
   },
   "outputs": [],
   "source": [
    "# search for blank data\n",
    "# should return Exception with error message\n",
    "shelter.read(blankTestData, True)"
   ]
  },
  {
   "cell_type": "code",
   "execution_count": null,
   "metadata": {
    "pycharm": {
     "name": "#%%\n"
    }
   },
   "outputs": [],
   "source": [
    "# search for items that meet search criter\n",
    "# should return a pymongo Cursor object\n",
    "shelter.read(testSearchData2, allItems=True)"
   ]
  },
  {
   "cell_type": "code",
   "execution_count": null,
   "metadata": {
    "pycharm": {
     "name": "#%%\n"
    }
   },
   "outputs": [],
   "source": [
    "# should return the first item that meets the search criteria in JSON format\n",
    "shelter.read(testSearchData2, allItems=False)"
   ]
  },
  {
   "cell_type": "code",
   "execution_count": null,
   "metadata": {
    "pycharm": {
     "name": "#%%\n"
    }
   },
   "outputs": [],
   "source": [
    "testSearchData = {\n",
    "   \"animal_id\" : \"A112233\"\n",
    "}\n",
    "updateData = {\n",
    "    \"breed\" : \"Some Breed of Cat\"\n",
    "}\n",
    "\n",
    "# update first document that meets search criteria\n",
    "# should return the updated document in JSON format\n",
    "shelter.update(testSearchData, updateData)"
   ]
  },
  {
   "cell_type": "code",
   "execution_count": null,
   "metadata": {
    "pycharm": {
     "name": "#%%\n"
    }
   },
   "outputs": [],
   "source": [
    "# delete the first document that matches the search criteria\n",
    "# should return the deleted document in JSON format\n",
    "shelter.delete({\"breed\" : \"Some Breed of Cat\"})"
   ]
  },
  {
   "cell_type": "code",
   "execution_count": null,
   "metadata": {
    "pycharm": {
     "name": "#%%\n"
    }
   },
   "outputs": [],
   "source": [
    "shelter.read({\"breed\" : \"Some Breed of Cat\"}, True)"
   ]
  },
  {
   "cell_type": "code",
   "execution_count": null,
   "metadata": {
    "pycharm": {
     "name": "#%%\n"
    }
   },
   "outputs": [],
   "source": []
  }
 ],
 "metadata": {
  "kernelspec": {
   "display_name": "Python 3.9.7 64-bit",
   "language": "python",
   "name": "python3"
  },
  "language_info": {
   "codemirror_mode": {
    "name": "ipython",
    "version": 3
   },
   "file_extension": ".py",
   "mimetype": "text/x-python",
   "name": "python",
   "nbconvert_exporter": "python",
   "pygments_lexer": "ipython3",
   "version": "3.9.7"
  },
  "vscode": {
   "interpreter": {
    "hash": "6ba17eb37bb870beeeb222b97c0b801035b0a96f4c4ca7eb4837aba8896f139c"
   }
  }
 },
 "nbformat": 4,
 "nbformat_minor": 2
}