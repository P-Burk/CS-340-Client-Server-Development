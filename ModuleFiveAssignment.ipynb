{
 "cells": [
  {
   "cell_type": "code",
   "execution_count": null,
   "metadata": {
    "pycharm": {
     "name": "#%%\n"
    }
   },
   "outputs": [],
   "source": [
    "import dash_core_components as dcc\n",
    "import dash_html_components as html\n",
    "import dash\n",
    "from dash.dependencies import Input, Output\n",
    "from pymongo import MongoClient\n",
    "import urllib.parse\n",
    "from bson.json_util import dumps\n",
    "\n",
    "legacyCode = False\n",
    "\n",
    "if legacyCode is True:\n",
    "    from jupyter_plotly_dash import JupyterDash\n",
    "else:\n",
    "   from jupyter_dash import JupyterDash\n",
    "\n",
    "\n",
    "#TODO: import for their CRUD module\n",
    "from Animal_Shelter import AnimalShelter\n",
    "\n",
    "# this is a juypter dash application\n",
    "app = JupyterDash('ModuleFive')\n",
    "\n",
    "# the application interfaces are declared here\n",
    "# this application has two input boxes, a submit button, a horizontal line and div for output\n",
    "app.layout = html.Div(\n",
    "    [\n",
    "        dcc.Input(\n",
    "            id=\"input_user\".format(\"text\"),\n",
    "            type=\"text\",\n",
    "            placeholder=\"input type {}\".format(\"text\")),\n",
    "        dcc.Input(\n",
    "            id=\"input_passwd\".format(\"password\"),\n",
    "            type=\"password\",\n",
    "            placeholder=\"input type {}\".format(\"password\")),\n",
    "        html.Button('Execute', id='submit-val', n_clicks=0),\n",
    "        \n",
    "    html.Hr(),\n",
    "    html.Div(id=\"query-out\"),\n",
    "\n",
    "    #TODO: insert unique identifier code here\n",
    "    html.H4(\"Student: Preston Burkhardt\"),\n",
    "    html.H4(\"Class: CS-340-T6640 Client/Server Development 22EW6\")\n",
    "\n",
    "    ]\n",
    ")\n",
    "\n",
    "# this is area to define application responses or callback routines\n",
    "# this one callback will take the entered text and if the submit button is clicked then call the \n",
    "# mongo database with the find_one query and return the result to the output div\n",
    "@app.callback(\n",
    "    Output(\"query-out\", \"children\"),\n",
    "    [Input(\"input_user\".format(\"text\"), \"value\"), \n",
    "     Input(\"input_passwd\".format(\"password\"),\"value\"),\n",
    "     Input('submit-val', 'n_clicks')],\n",
    "    [dash.dependencies.State('input_passwd', 'value')]\n",
    ")\n",
    "def cb_render(userValue,passValue,n_clicks,buttonValue):\n",
    "    if n_clicks > 0:\n",
    "        ###########################\n",
    "        # Data Manipulation / Model\n",
    "        # use CRUD module to access MongoDB\n",
    "        ##########################\n",
    "        username = urllib.parse.quote_plus(userValue)\n",
    "        password = urllib.parse.quote_plus(passValue)\n",
    "        #TODO: Instantiate CRUD object with above authentication username and password values\n",
    "        #shelter = AnimalShelter()\n",
    "        shelter = AnimalShelter(username, password)\n",
    "\n",
    "        # note that MongoDB returns BSON, the pyMongo JSON utility function dumps is used to convert to text\n",
    "        #TODO: Return example query results\n",
    "        \n",
    "        outputDataList = shelter.read({\"animal_type\" : \"Dog\", \"name\" : \"Lucy\"}, False)\n",
    "        #output is already converted to JSON in animalShelter class\n",
    "        return dumps(outputDataList)\n",
    "\n",
    "if legacyCode is True:\n",
    "    app\n",
    "else:\n",
    "    app.run_server(mode='inline')"
   ]
  },
  {
   "cell_type": "code",
   "execution_count": null,
   "outputs": [],
   "source": [],
   "metadata": {
    "collapsed": false,
    "pycharm": {
     "name": "#%%\n"
    }
   }
  }
 ],
 "metadata": {
  "kernelspec": {
   "display_name": "Python 3.9.7 64-bit",
   "language": "python",
   "name": "python3"
  },
  "language_info": {
   "codemirror_mode": {
    "name": "ipython",
    "version": 3
   },
   "file_extension": ".py",
   "mimetype": "text/x-python",
   "name": "python",
   "nbconvert_exporter": "python",
   "pygments_lexer": "ipython3",
   "version": "3.9.7"
  },
  "vscode": {
   "interpreter": {
    "hash": "6ba17eb37bb870beeeb222b97c0b801035b0a96f4c4ca7eb4837aba8896f139c"
   }
  }
 },
 "nbformat": 4,
 "nbformat_minor": 4
}